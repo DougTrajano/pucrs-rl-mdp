{
 "cells": [
  {
   "cell_type": "markdown",
   "source": [
    "# MDPs in pymdptoolbox - Class Assignment\n",
    "\n",
    "## Introduction\n",
    "\n",
    "In this practical exercise, we will look at how we can implement MDP planning in a mathematical toolkit, and track the calculation of the rewards for each state via Value Iteration. The following code sets up an MDP environment (the basic case shown in class, shown in the Figure below) and computes the policy for the given MDP using the Value Iteration algorithm.\n",
    "\n",
    "<img align=\"center\" src=\"mdp_simple.png\"/>\n",
    "\n",
    "While you can find the code to solve all the questions from this notebook within this repository (if you inspect the files), we strongly suggest you try to solve the coding problems yourself first.\n",
    "\n",
    "Then we provide a set of questions for you to implement and answer. This assignment is **not graded**.\n"
   ],
   "metadata": {}
  },
  {
   "cell_type": "code",
   "execution_count": 1,
   "source": [
    "# The line below is to be used if you have pymdptoolbox installed with setuptools\r\n",
    "# import mdptoolbox.example\r\n",
    "# Whereas the line below obviate the need to install that\r\n",
    "import sys\r\n",
    "sys.path.insert(1,'pymdptoolbox/src')\r\n",
    "import mdptoolbox.example\r\n",
    "\r\n",
    "import numpy as _np\r\n",
    "from gen_scenario import *\r\n",
    "\r\n",
    "\"\"\"\r\n",
    "(Y,X)\r\n",
    "| 00 01 02 ... 0X-1       'N' = North\r\n",
    "| 10  .         .         'S' = South\r\n",
    "| 20    .       .         'W' = West\r\n",
    "| .       .     .         'E' = East\r\n",
    "| .         .   .         'T' = Terminal\r\n",
    "| .           . .         'O' = Obstacle\r\n",
    "| Y-1,0 . . .   Y-1X-1\r\n",
    "\"\"\" \r\n",
    "\r\n",
    "shape = [3,4]\r\n",
    "rewards = [[0,3,100],[1,3,-100]]\r\n",
    "obstacles = [[1,1]]\r\n",
    "terminals = [[0,3],[1,3]]\r\n",
    "P, RSS, R = mdp_grid(shape=shape, terminals=terminals, r=-3, rewards=rewards, obstacles=obstacles)\r\n",
    "vi = mdptoolbox.mdp.ValueIterationGS(P, R, discount=0.99, epsilon=0.001, max_iter=1000, skip_check=True)\r\n",
    "\r\n",
    "vi.run()\r\n",
    "#You can check the quadrant values using print vi.V\r\n",
    "# print_policy(vi.policy, shape, obstacles=obstacles, terminals=terminals)\r\n",
    "display_policy(vi.policy, shape, obstacles=obstacles, terminals=terminals)"
   ],
   "outputs": [
    {
     "output_type": "display_data",
     "data": {
      "text/plain": [
       "<IPython.core.display.HTML object>"
      ],
      "text/html": [
       "<table style=\"font-size:300%;border: thick solid;\"><tr><td>&rarr;</td><td>&rarr;</td><td>&rarr;</td><td>&#x25CE;</td></tr><tr><td>&uarr;</td><td>&#x25FE;</td><td>&larr;</td><td>&#x25CE;</td></tr><tr><td>&uarr;</td><td>&larr;</td><td>&larr;</td><td>&darr;</td></tr></table>"
      ]
     },
     "metadata": {}
    }
   ],
   "metadata": {}
  },
  {
   "cell_type": "markdown",
   "source": [
    "## Converting Rewards\n",
    "\n",
    "In the lecture, we saw that the reward function can be of one of two forms:\n",
    "\n",
    "- $R(s): \\mathcal{S} \\mapsto \\mathbb{R}$ - where rewards are associated to a single state (we also referred to this as $\\mathcal{R}_{s}$)\n",
    "- $R(s,a): \\mathcal{S} \\times \\mathcal{A} \\mapsto \\mathbb{R}$ - where rewards accrue for pairs of states and actions (we also referred to this as $\\mathcal{R}_{s}$)\n",
    "\n",
    "Your next piece of code will convert from the state-based reward into a state-action immediate reward. In this case, you can consider that the reward of a state-action pair $(s,a)$ for a state $s$ and action $a$ is the immediate reward of the neighboring states $s'$ weighed by the probability of reaching them using action $a$, thus:\n",
    "\n",
    "$$R(s,a) = \\sum_{s'}R(s')P(s,a,s')$$\n",
    "\n",
    "Your function takes two parameters:\n",
    "\n",
    "- The transition function/matrix $\\mathcal{P}_{ss'}^{a}$, which has a shape $|\\mathcal{A}|\\times|\\mathcal{S}|\\times|\\mathcal{S}|$, containing transition probabilities for each action.\n",
    "- The single state reward function/array $\\mathcal{R}_{s}$, which has a shape $|\\mathcal{S}|$ containing numerical rewards for each state.\n",
    "\n",
    "Thus when ```P[a][s][ss]``` refers to the probability of transitioning from state ```s``` to state ```ss``` using action ```a```. Similarly, ```R[s]``` refers to the single state reward for state ```s```."
   ],
   "metadata": {}
  },
  {
   "cell_type": "code",
   "execution_count": 2,
   "source": [
    "# Don't forget we import numpy as _np\r\n",
    "def r_to_ra(P, R):\r\n",
    "    # We start by assuming we have a fixed number of actions (4, the cardinal points)\r\n",
    "    # So we need a matrix with SxA dimensions to store the rewards\r\n",
    "    RS = _np.zeros([len(P[1]), 4])\r\n",
    "    # You will now convert the rewards for single states into rewards for state-action pairs\r\n",
    "    ## YOUR CODE START\r\n",
    "    for i in range(len(P[1])):\r\n",
    "        for j in range(4):\r\n",
    "            for k in range(len(P[1])):\r\n",
    "                RS[i, j] = RS[i, j] + (P[j, i, k] * R[k])\r\n",
    "    ## YOUR CODE END\r\n",
    "    return RS"
   ],
   "outputs": [],
   "metadata": {}
  },
  {
   "cell_type": "markdown",
   "source": [
    "The next cell tests the code you just developed to ensure your conversion is sound."
   ],
   "metadata": {}
  },
  {
   "cell_type": "code",
   "execution_count": 3,
   "source": [
    "shape = [2,2]\r\n",
    "rewards = [[1,1,1]]\r\n",
    "obstacles = []\r\n",
    "terminals = [[1,1]]\r\n",
    "Ptest, RSStest, Rtest = mdp_grid(shape=shape, terminals=terminals, r=-1, rewards=rewards, obstacles=obstacles)\r\n",
    "\r\n",
    "# Let's compare your implementation with the reference one\r\n",
    "RA = r_to_ra(Ptest,Rtest)\r\n",
    "RA2 = r_to_rs(Ptest,Rtest,terminals,obstacles,shape)\r\n",
    "print(\"Expected:\", str(RA2))\r\n",
    "print(\"Actual:\", str(RA))\r\n",
    "assert((RA == RA2).all())\r\n"
   ],
   "outputs": [
    {
     "output_type": "stream",
     "name": "stdout",
     "text": [
      "Expected: [[-1.  -1.  -1.  -1. ]\n",
      " [-1.   0.6 -0.8 -0.8]\n",
      " [-0.8 -0.8  0.6 -1. ]\n",
      " [ 1.   1.   1.   1. ]]\n",
      "Actual: [[-1.  -1.  -1.  -1. ]\n",
      " [-1.   0.6 -0.8 -0.8]\n",
      " [-0.8 -0.8  0.6 -1. ]\n",
      " [ 1.   1.   1.   1. ]]\n"
     ]
    }
   ],
   "metadata": {}
  },
  {
   "cell_type": "markdown",
   "source": [
    "## The Bellman Operator\n",
    "\n",
    "We are now going to implement the Bellman Operator, recall that there are many forms of the Bellman equation. At its simplest, it specifies, for each state, the expected discounted reward of a policy as a function of the value of their reachable neighbors.\n",
    "$$v_{\\pi}(s) = \\mathcal{R}_{s}^{\\pi(s)} + \\gamma\\sum_{s' \\in \\mathcal{S}}\\mathcal{P}_{ss'}^{\\pi(a)}v_{\\pi}(s)$$\n",
    "\n",
    "Similarly, the Bellman optimality equation consists of choosing actions greedily at each state:\n",
    "$$v_{*}(s) = \\max_{a \\in \\mathcal{A}}\\left[\\mathcal{R}_{s}^{a} + \\gamma\\sum_{s' \\in \\mathcal{S}}\\mathcal{P}_{ss'}^{a}v_{*}(s)\\right]$$\n",
    "\n",
    "Below, you will implement the Bellman Optimality operator assuming a reward function of the form $R(s,a)$, much like the one you just created above (but don't worry, we ensure you get a valid one). The transition function is exactly the same as you have used in the previous code. You also have two additional parameters:\n",
    "\n",
    "- A value function/array ```V``` containing the current estimates for $v_{*}(s)$, this is what you will use to estimate the values of neighboring states\n",
    "- A discount factor $\\gamma$ in the ```gamma``` variable"
   ],
   "metadata": {}
  },
  {
   "cell_type": "code",
   "execution_count": 125,
   "source": [
    "# Bellman operator\r\n",
    "\r\n",
    "\r\n",
    "def bellmanOperator(P, R, V, discount=0.9):\r\n",
    "    \"\"\"The Bellman Optimality Operator. \r\n",
    "    input:\r\n",
    "    P -> AxSxS transition matrix indicating P(s' | s, a)\r\n",
    "    R -> AxS reward function indicading R(S,A)\r\n",
    "    V -> S a value function in matrix form\r\n",
    "    discount -> [0,1] the discount factor\r\n",
    "    \"\"\"\r\n",
    "    Vp = _np.zeros(P.shape[0])    \r\n",
    "    ## YOUR CODE START\r\n",
    "    Q = _np.empty((P.shape[0], P.shape[1]))\r\n",
    "    \r\n",
    "    for i in range(P.shape[0]):\r\n",
    "        Q[i] = R[i] + discount * P[i].dot(V)\r\n",
    "\r\n",
    "    pi = Q.argmax(axis=1)\r\n",
    "    Vp = Q.max(axis=1)\r\n",
    "    ## YOUR CODE END\r\n",
    "    return pi, Vp"
   ],
   "outputs": [],
   "metadata": {}
  },
  {
   "cell_type": "markdown",
   "source": [
    "We will now test your implementation of the Bellman operator"
   ],
   "metadata": {}
  },
  {
   "cell_type": "code",
   "execution_count": 109,
   "source": [
    "from mdptoolbox.mdp import MDP\r\n",
    "\r\n",
    "shape = [2,2]\r\n",
    "rewards = [[1,1,1]]\r\n",
    "obstacles = []\r\n",
    "terminals = [[1,1]]\r\n",
    "Ptest, RSStest, Rtest = mdp_grid(shape=shape, terminals=terminals, r=-1, rewards=rewards, obstacles=obstacles)\r\n",
    "\r\n",
    "# Let's compare your implementation with the reference one\r\n",
    "V = _np.zeros(4)\r\n",
    "pi1, V1 = bellmanOperator(Ptest, RSStest, V, 0.9)\r\n",
    "mdp = MDP(Ptest,RSStest,.9,.001,10,False)\r\n",
    "pi2, V2 = mdp._bellmanOperator(V)\r\n",
    "\r\n",
    "print(\"Expected V:\", str(V2))\r\n",
    "print(\"Actual V:\", str(V1))\r\n",
    "assert((V1 == V2).all())\r\n",
    "print(\"Expected policy\")\r\n",
    "display_policy(pi2, shape, obstacles=obstacles, terminals=terminals)\r\n",
    "print(\"Actual policy\")\r\n",
    "display_policy(pi1, shape, obstacles=obstacles, terminals=terminals)\r\n",
    "assert((pi1 == pi2).all())"
   ],
   "outputs": [
    {
     "output_type": "stream",
     "name": "stdout",
     "text": [
      "Expected V: [-1.   0.6  0.6  1. ]\n",
      "Actual V: [-1.   0.6  0.6  1. ]\n",
      "Expected policy\n"
     ]
    },
    {
     "output_type": "display_data",
     "data": {
      "text/plain": [
       "<IPython.core.display.HTML object>"
      ],
      "text/html": [
       "<table style=\"font-size:300%;border: thick solid;\"><tr><td>&uarr;</td><td>&darr;</td></tr><tr><td>&rarr;</td><td>&#x25CE;</td></tr></table>"
      ]
     },
     "metadata": {}
    },
    {
     "output_type": "stream",
     "name": "stdout",
     "text": [
      "Actual policy\n"
     ]
    },
    {
     "output_type": "display_data",
     "data": {
      "text/plain": [
       "<IPython.core.display.HTML object>"
      ],
      "text/html": [
       "<table style=\"font-size:300%;border: thick solid;\"><tr><td>&uarr;</td><td>&darr;</td></tr><tr><td>&rarr;</td><td>&#x25CE;</td></tr></table>"
      ]
     },
     "metadata": {}
    }
   ],
   "metadata": {}
  },
  {
   "cell_type": "markdown",
   "source": [
    "## Value Iteration\n",
    "\n",
    "Finally, we will implement a simplified version of the value iteration algorithm, which consists of using the Bellman optimality equation (which you just implemented) until the value function converges to within an error bound $\\epsilon$.\n",
    "At each iteration, you should compare the ```max_norm``` difference between consecutive value functions (which we call ```delta```, or $\\delta$), with the bound established by the algorithm $\\frac{\\epsilon(1 - \\gamma)}{\\gamma}$"
   ],
   "metadata": {}
  },
  {
   "cell_type": "code",
   "execution_count": 143,
   "source": [
    "# This returns the span of an array\r\n",
    "def max_norm(a):\r\n",
    "    return a.max() - a.min()\r\n",
    "\r\n",
    "def valueIteration(P, R, discount=0.9, epsilon=0.01):\r\n",
    "    delta = float(\"inf\")\r\n",
    "    v = _np.zeros(R.shape[1])\r\n",
    "    pi = _np.zeros(R.shape[1])\r\n",
    "\r\n",
    "    ## YOUR CODE START\r\n",
    "    epsilon = epsilon * (1 - discount) / discount\r\n",
    "    \r\n",
    "    while delta > epsilon:\r\n",
    "        v_old = v.copy()\r\n",
    "        \r\n",
    "        mdp = MDP(P,R, discount, epsilon, 10, False)\r\n",
    "        pi, v = mdp._bellmanOperator(v)\r\n",
    "        #pi, v = bellmanOperator(P, R, v, discount)\r\n",
    "        \r\n",
    "        delta = max_norm(v - v_old)\r\n",
    "        \r\n",
    "    ## YOUR CODE END\r\n",
    "    return pi, v\r\n"
   ],
   "outputs": [],
   "metadata": {}
  },
  {
   "cell_type": "markdown",
   "source": [
    "We can now test your implementation of the value iteration algorithm against the reference implementation."
   ],
   "metadata": {}
  },
  {
   "cell_type": "code",
   "execution_count": 144,
   "source": [
    "from mdptoolbox.mdp import MDP\r\n",
    "\r\n",
    "shape = [2,2]\r\n",
    "rewards = [[1,1,1]]\r\n",
    "obstacles = []\r\n",
    "terminals = [[1,1]]\r\n",
    "Ptest, RSStest, Rtest = mdp_grid(shape=shape, terminals=terminals, r=-1, rewards=rewards, obstacles=obstacles)\r\n",
    "\r\n",
    "pi1, v1 = valueIteration(Ptest,RSStest, 0.9, 0.01)\r\n",
    "vi = mdptoolbox.mdp.ValueIteration(Ptest, RSStest, discount=0.9, epsilon=0.01, max_iter=1000, skip_check=True)\r\n",
    "vi.run()\r\n",
    "\r\n",
    "pi2 = vi.policy\r\n",
    "v2 = vi.V\r\n",
    "print(\"Expected V:\", str(v2))\r\n",
    "print(\"Actual V:\", str(v1))\r\n",
    "assert((v1 == v2).all())\r\n",
    "\r\n",
    "print(\"Expected policy\")\r\n",
    "display_policy(pi2, shape, obstacles=obstacles, terminals=terminals)\r\n",
    "print(\"Actual policy\")\r\n",
    "display_policy(pi1, shape, obstacles=obstacles, terminals=terminals)\r\n",
    "assert((pi1 == pi2).all())"
   ],
   "outputs": [
    {
     "output_type": "stream",
     "name": "stdout",
     "text": [
      "Expected V: (3.2870658918037767, 5.405540782659857, 5.405540782659857, 6.12579511)\n",
      "Actual V: [3.28706589 5.40554078 5.40554078 6.12579511]\n",
      "Expected policy\n"
     ]
    },
    {
     "output_type": "display_data",
     "data": {
      "text/plain": [
       "<IPython.core.display.HTML object>"
      ],
      "text/html": [
       "<table style=\"font-size:300%;border: thick solid;\"><tr><td>&darr;</td><td>&darr;</td></tr><tr><td>&rarr;</td><td>&#x25CE;</td></tr></table>"
      ]
     },
     "metadata": {}
    },
    {
     "output_type": "stream",
     "name": "stdout",
     "text": [
      "Actual policy\n"
     ]
    },
    {
     "output_type": "display_data",
     "data": {
      "text/plain": [
       "<IPython.core.display.HTML object>"
      ],
      "text/html": [
       "<table style=\"font-size:300%;border: thick solid;\"><tr><td>&darr;</td><td>&darr;</td></tr><tr><td>&rarr;</td><td>&#x25CE;</td></tr></table>"
      ]
     },
     "metadata": {}
    }
   ],
   "metadata": {}
  },
  {
   "cell_type": "markdown",
   "source": [
    "Here we plot the difference between each iteration of the Value Iteration algorithm using many different discount factors. To plot this image, you must install seaborn. To install seaborn run: \n",
    "\n",
    "```\n",
    "pip3 install seaborn --user\n",
    "\n",
    "```"
   ],
   "metadata": {}
  },
  {
   "cell_type": "code",
   "execution_count": 141,
   "source": [
    "def plot(P, R, discounts=[0.1, 0.2, 0.3, 0.4, 0.5, 0.6, 0.7, 0.8, 0.9, 0.95], epsilon=0.001, max_iter=1000):\r\n",
    "    data_list = []\r\n",
    "    import pandas as pd\r\n",
    "    from matplotlib import pyplot as plt\r\n",
    "    %matplotlib inline\r\n",
    "    import seaborn as sns\r\n",
    "    data_list = []\r\n",
    "    for d in discounts:\r\n",
    "        vis = mdptoolbox.mdp.ValueIteration(P, R, d, epsilon, max_iter, skip_check=True)\r\n",
    "        vis.run()\r\n",
    "        iterations = 1\r\n",
    "        for value in vis.iterations_list:\r\n",
    "            data_list.append([value, 'gamma: ' + str(d), iterations])\r\n",
    "            iterations +=1\r\n",
    "    data_frame2 = pd.DataFrame(data_list, columns=['difference', 'discount', 'iterations'])\r\n",
    "    ax = sns.relplot(x = 'iterations', y = 'difference', hue='discount', kind=\"line\", data=data_frame2)\r\n",
    "plot(P,R)"
   ],
   "outputs": [
    {
     "output_type": "display_data",
     "data": {
      "text/plain": [
       "<Figure size 462.5x360 with 1 Axes>"
      ],
      "image/svg+xml": "<?xml version=\"1.0\" encoding=\"utf-8\" standalone=\"no\"?>\r\n<!DOCTYPE svg PUBLIC \"-//W3C//DTD SVG 1.1//EN\"\r\n  \"http://www.w3.org/Graphics/SVG/1.1/DTD/svg11.dtd\">\r\n<svg height=\"366.15625pt\" version=\"1.1\" viewBox=\"0 0 464.227257 366.15625\" width=\"464.227257pt\" xmlns=\"http://www.w3.org/2000/svg\" xmlns:xlink=\"http://www.w3.org/1999/xlink\">\r\n <metadata>\r\n  <rdf:RDF xmlns:cc=\"http://creativecommons.org/ns#\" xmlns:dc=\"http://purl.org/dc/elements/1.1/\" xmlns:rdf=\"http://www.w3.org/1999/02/22-rdf-syntax-ns#\">\r\n   <cc:Work>\r\n    <dc:type rdf:resource=\"http://purl.org/dc/dcmitype/StillImage\"/>\r\n    <dc:date>2021-08-29T10:57:21.661088</dc:date>\r\n    <dc:format>image/svg+xml</dc:format>\r\n    <dc:creator>\r\n     <cc:Agent>\r\n      <dc:title>Matplotlib v3.4.2, https://matplotlib.org/</dc:title>\r\n     </cc:Agent>\r\n    </dc:creator>\r\n   </cc:Work>\r\n  </rdf:RDF>\r\n </metadata>\r\n <defs>\r\n  <style type=\"text/css\">*{stroke-linecap:butt;stroke-linejoin:round;}</style>\r\n </defs>\r\n <g id=\"figure_1\">\r\n  <g id=\"patch_1\">\r\n   <path d=\"M -0 366.15625 \r\nL 464.227257 366.15625 \r\nL 464.227257 0 \r\nL -0 0 \r\nz\r\n\" style=\"fill:none;\"/>\r\n  </g>\r\n  <g id=\"axes_1\">\r\n   <g id=\"patch_2\">\r\n    <path d=\"M 46.965625 328.6 \r\nL 354.902257 328.6 \r\nL 354.902257 7.2 \r\nL 46.965625 7.2 \r\nz\r\n\" style=\"fill:#ffffff;\"/>\r\n   </g>\r\n   <g id=\"matplotlib.axis_1\">\r\n    <g id=\"xtick_1\">\r\n     <g id=\"line2d_1\">\r\n      <defs>\r\n       <path d=\"M 0 0 \r\nL 0 3.5 \r\n\" id=\"macb5b33a63\" style=\"stroke:#000000;stroke-width:0.8;\"/>\r\n      </defs>\r\n      <g>\r\n       <use style=\"stroke:#000000;stroke-width:0.8;\" x=\"60.013787\" xlink:href=\"#macb5b33a63\" y=\"328.6\"/>\r\n      </g>\r\n     </g>\r\n     <g id=\"text_1\">\r\n      <!-- 0 -->\r\n      <g transform=\"translate(56.832537 343.198437)scale(0.1 -0.1)\">\r\n       <defs>\r\n        <path d=\"M 2034 4250 \r\nQ 1547 4250 1301 3770 \r\nQ 1056 3291 1056 2328 \r\nQ 1056 1369 1301 889 \r\nQ 1547 409 2034 409 \r\nQ 2525 409 2770 889 \r\nQ 3016 1369 3016 2328 \r\nQ 3016 3291 2770 3770 \r\nQ 2525 4250 2034 4250 \r\nz\r\nM 2034 4750 \r\nQ 2819 4750 3233 4129 \r\nQ 3647 3509 3647 2328 \r\nQ 3647 1150 3233 529 \r\nQ 2819 -91 2034 -91 \r\nQ 1250 -91 836 529 \r\nQ 422 1150 422 2328 \r\nQ 422 3509 836 4129 \r\nQ 1250 4750 2034 4750 \r\nz\r\n\" id=\"DejaVuSans-30\" transform=\"scale(0.015625)\"/>\r\n       </defs>\r\n       <use xlink:href=\"#DejaVuSans-30\"/>\r\n      </g>\r\n     </g>\r\n    </g>\r\n    <g id=\"xtick_2\">\r\n     <g id=\"line2d_2\">\r\n      <g>\r\n       <use style=\"stroke:#000000;stroke-width:0.8;\" x=\"107.461651\" xlink:href=\"#macb5b33a63\" y=\"328.6\"/>\r\n      </g>\r\n     </g>\r\n     <g id=\"text_2\">\r\n      <!-- 50 -->\r\n      <g transform=\"translate(101.099151 343.198437)scale(0.1 -0.1)\">\r\n       <defs>\r\n        <path d=\"M 691 4666 \r\nL 3169 4666 \r\nL 3169 4134 \r\nL 1269 4134 \r\nL 1269 2991 \r\nQ 1406 3038 1543 3061 \r\nQ 1681 3084 1819 3084 \r\nQ 2600 3084 3056 2656 \r\nQ 3513 2228 3513 1497 \r\nQ 3513 744 3044 326 \r\nQ 2575 -91 1722 -91 \r\nQ 1428 -91 1123 -41 \r\nQ 819 9 494 109 \r\nL 494 744 \r\nQ 775 591 1075 516 \r\nQ 1375 441 1709 441 \r\nQ 2250 441 2565 725 \r\nQ 2881 1009 2881 1497 \r\nQ 2881 1984 2565 2268 \r\nQ 2250 2553 1709 2553 \r\nQ 1456 2553 1204 2497 \r\nQ 953 2441 691 2322 \r\nL 691 4666 \r\nz\r\n\" id=\"DejaVuSans-35\" transform=\"scale(0.015625)\"/>\r\n       </defs>\r\n       <use xlink:href=\"#DejaVuSans-35\"/>\r\n       <use x=\"63.623047\" xlink:href=\"#DejaVuSans-30\"/>\r\n      </g>\r\n     </g>\r\n    </g>\r\n    <g id=\"xtick_3\">\r\n     <g id=\"line2d_3\">\r\n      <g>\r\n       <use style=\"stroke:#000000;stroke-width:0.8;\" x=\"154.909514\" xlink:href=\"#macb5b33a63\" y=\"328.6\"/>\r\n      </g>\r\n     </g>\r\n     <g id=\"text_3\">\r\n      <!-- 100 -->\r\n      <g transform=\"translate(145.365764 343.198437)scale(0.1 -0.1)\">\r\n       <defs>\r\n        <path d=\"M 794 531 \r\nL 1825 531 \r\nL 1825 4091 \r\nL 703 3866 \r\nL 703 4441 \r\nL 1819 4666 \r\nL 2450 4666 \r\nL 2450 531 \r\nL 3481 531 \r\nL 3481 0 \r\nL 794 0 \r\nL 794 531 \r\nz\r\n\" id=\"DejaVuSans-31\" transform=\"scale(0.015625)\"/>\r\n       </defs>\r\n       <use xlink:href=\"#DejaVuSans-31\"/>\r\n       <use x=\"63.623047\" xlink:href=\"#DejaVuSans-30\"/>\r\n       <use x=\"127.246094\" xlink:href=\"#DejaVuSans-30\"/>\r\n      </g>\r\n     </g>\r\n    </g>\r\n    <g id=\"xtick_4\">\r\n     <g id=\"line2d_4\">\r\n      <g>\r\n       <use style=\"stroke:#000000;stroke-width:0.8;\" x=\"202.357377\" xlink:href=\"#macb5b33a63\" y=\"328.6\"/>\r\n      </g>\r\n     </g>\r\n     <g id=\"text_4\">\r\n      <!-- 150 -->\r\n      <g transform=\"translate(192.813627 343.198437)scale(0.1 -0.1)\">\r\n       <use xlink:href=\"#DejaVuSans-31\"/>\r\n       <use x=\"63.623047\" xlink:href=\"#DejaVuSans-35\"/>\r\n       <use x=\"127.246094\" xlink:href=\"#DejaVuSans-30\"/>\r\n      </g>\r\n     </g>\r\n    </g>\r\n    <g id=\"xtick_5\">\r\n     <g id=\"line2d_5\">\r\n      <g>\r\n       <use style=\"stroke:#000000;stroke-width:0.8;\" x=\"249.80524\" xlink:href=\"#macb5b33a63\" y=\"328.6\"/>\r\n      </g>\r\n     </g>\r\n     <g id=\"text_5\">\r\n      <!-- 200 -->\r\n      <g transform=\"translate(240.26149 343.198437)scale(0.1 -0.1)\">\r\n       <defs>\r\n        <path d=\"M 1228 531 \r\nL 3431 531 \r\nL 3431 0 \r\nL 469 0 \r\nL 469 531 \r\nQ 828 903 1448 1529 \r\nQ 2069 2156 2228 2338 \r\nQ 2531 2678 2651 2914 \r\nQ 2772 3150 2772 3378 \r\nQ 2772 3750 2511 3984 \r\nQ 2250 4219 1831 4219 \r\nQ 1534 4219 1204 4116 \r\nQ 875 4013 500 3803 \r\nL 500 4441 \r\nQ 881 4594 1212 4672 \r\nQ 1544 4750 1819 4750 \r\nQ 2544 4750 2975 4387 \r\nQ 3406 4025 3406 3419 \r\nQ 3406 3131 3298 2873 \r\nQ 3191 2616 2906 2266 \r\nQ 2828 2175 2409 1742 \r\nQ 1991 1309 1228 531 \r\nz\r\n\" id=\"DejaVuSans-32\" transform=\"scale(0.015625)\"/>\r\n       </defs>\r\n       <use xlink:href=\"#DejaVuSans-32\"/>\r\n       <use x=\"63.623047\" xlink:href=\"#DejaVuSans-30\"/>\r\n       <use x=\"127.246094\" xlink:href=\"#DejaVuSans-30\"/>\r\n      </g>\r\n     </g>\r\n    </g>\r\n    <g id=\"xtick_6\">\r\n     <g id=\"line2d_6\">\r\n      <g>\r\n       <use style=\"stroke:#000000;stroke-width:0.8;\" x=\"297.253103\" xlink:href=\"#macb5b33a63\" y=\"328.6\"/>\r\n      </g>\r\n     </g>\r\n     <g id=\"text_6\">\r\n      <!-- 250 -->\r\n      <g transform=\"translate(287.709353 343.198437)scale(0.1 -0.1)\">\r\n       <use xlink:href=\"#DejaVuSans-32\"/>\r\n       <use x=\"63.623047\" xlink:href=\"#DejaVuSans-35\"/>\r\n       <use x=\"127.246094\" xlink:href=\"#DejaVuSans-30\"/>\r\n      </g>\r\n     </g>\r\n    </g>\r\n    <g id=\"xtick_7\">\r\n     <g id=\"line2d_7\">\r\n      <g>\r\n       <use style=\"stroke:#000000;stroke-width:0.8;\" x=\"344.700966\" xlink:href=\"#macb5b33a63\" y=\"328.6\"/>\r\n      </g>\r\n     </g>\r\n     <g id=\"text_7\">\r\n      <!-- 300 -->\r\n      <g transform=\"translate(335.157216 343.198437)scale(0.1 -0.1)\">\r\n       <defs>\r\n        <path d=\"M 2597 2516 \r\nQ 3050 2419 3304 2112 \r\nQ 3559 1806 3559 1356 \r\nQ 3559 666 3084 287 \r\nQ 2609 -91 1734 -91 \r\nQ 1441 -91 1130 -33 \r\nQ 819 25 488 141 \r\nL 488 750 \r\nQ 750 597 1062 519 \r\nQ 1375 441 1716 441 \r\nQ 2309 441 2620 675 \r\nQ 2931 909 2931 1356 \r\nQ 2931 1769 2642 2001 \r\nQ 2353 2234 1838 2234 \r\nL 1294 2234 \r\nL 1294 2753 \r\nL 1863 2753 \r\nQ 2328 2753 2575 2939 \r\nQ 2822 3125 2822 3475 \r\nQ 2822 3834 2567 4026 \r\nQ 2313 4219 1838 4219 \r\nQ 1578 4219 1281 4162 \r\nQ 984 4106 628 3988 \r\nL 628 4550 \r\nQ 988 4650 1302 4700 \r\nQ 1616 4750 1894 4750 \r\nQ 2613 4750 3031 4423 \r\nQ 3450 4097 3450 3541 \r\nQ 3450 3153 3228 2886 \r\nQ 3006 2619 2597 2516 \r\nz\r\n\" id=\"DejaVuSans-33\" transform=\"scale(0.015625)\"/>\r\n       </defs>\r\n       <use xlink:href=\"#DejaVuSans-33\"/>\r\n       <use x=\"63.623047\" xlink:href=\"#DejaVuSans-30\"/>\r\n       <use x=\"127.246094\" xlink:href=\"#DejaVuSans-30\"/>\r\n      </g>\r\n     </g>\r\n    </g>\r\n    <g id=\"text_8\">\r\n     <!-- iterations -->\r\n     <g transform=\"translate(177.206597 356.876562)scale(0.1 -0.1)\">\r\n      <defs>\r\n       <path d=\"M 603 3500 \r\nL 1178 3500 \r\nL 1178 0 \r\nL 603 0 \r\nL 603 3500 \r\nz\r\nM 603 4863 \r\nL 1178 4863 \r\nL 1178 4134 \r\nL 603 4134 \r\nL 603 4863 \r\nz\r\n\" id=\"DejaVuSans-69\" transform=\"scale(0.015625)\"/>\r\n       <path d=\"M 1172 4494 \r\nL 1172 3500 \r\nL 2356 3500 \r\nL 2356 3053 \r\nL 1172 3053 \r\nL 1172 1153 \r\nQ 1172 725 1289 603 \r\nQ 1406 481 1766 481 \r\nL 2356 481 \r\nL 2356 0 \r\nL 1766 0 \r\nQ 1100 0 847 248 \r\nQ 594 497 594 1153 \r\nL 594 3053 \r\nL 172 3053 \r\nL 172 3500 \r\nL 594 3500 \r\nL 594 4494 \r\nL 1172 4494 \r\nz\r\n\" id=\"DejaVuSans-74\" transform=\"scale(0.015625)\"/>\r\n       <path d=\"M 3597 1894 \r\nL 3597 1613 \r\nL 953 1613 \r\nQ 991 1019 1311 708 \r\nQ 1631 397 2203 397 \r\nQ 2534 397 2845 478 \r\nQ 3156 559 3463 722 \r\nL 3463 178 \r\nQ 3153 47 2828 -22 \r\nQ 2503 -91 2169 -91 \r\nQ 1331 -91 842 396 \r\nQ 353 884 353 1716 \r\nQ 353 2575 817 3079 \r\nQ 1281 3584 2069 3584 \r\nQ 2775 3584 3186 3129 \r\nQ 3597 2675 3597 1894 \r\nz\r\nM 3022 2063 \r\nQ 3016 2534 2758 2815 \r\nQ 2500 3097 2075 3097 \r\nQ 1594 3097 1305 2825 \r\nQ 1016 2553 972 2059 \r\nL 3022 2063 \r\nz\r\n\" id=\"DejaVuSans-65\" transform=\"scale(0.015625)\"/>\r\n       <path d=\"M 2631 2963 \r\nQ 2534 3019 2420 3045 \r\nQ 2306 3072 2169 3072 \r\nQ 1681 3072 1420 2755 \r\nQ 1159 2438 1159 1844 \r\nL 1159 0 \r\nL 581 0 \r\nL 581 3500 \r\nL 1159 3500 \r\nL 1159 2956 \r\nQ 1341 3275 1631 3429 \r\nQ 1922 3584 2338 3584 \r\nQ 2397 3584 2469 3576 \r\nQ 2541 3569 2628 3553 \r\nL 2631 2963 \r\nz\r\n\" id=\"DejaVuSans-72\" transform=\"scale(0.015625)\"/>\r\n       <path d=\"M 2194 1759 \r\nQ 1497 1759 1228 1600 \r\nQ 959 1441 959 1056 \r\nQ 959 750 1161 570 \r\nQ 1363 391 1709 391 \r\nQ 2188 391 2477 730 \r\nQ 2766 1069 2766 1631 \r\nL 2766 1759 \r\nL 2194 1759 \r\nz\r\nM 3341 1997 \r\nL 3341 0 \r\nL 2766 0 \r\nL 2766 531 \r\nQ 2569 213 2275 61 \r\nQ 1981 -91 1556 -91 \r\nQ 1019 -91 701 211 \r\nQ 384 513 384 1019 \r\nQ 384 1609 779 1909 \r\nQ 1175 2209 1959 2209 \r\nL 2766 2209 \r\nL 2766 2266 \r\nQ 2766 2663 2505 2880 \r\nQ 2244 3097 1772 3097 \r\nQ 1472 3097 1187 3025 \r\nQ 903 2953 641 2809 \r\nL 641 3341 \r\nQ 956 3463 1253 3523 \r\nQ 1550 3584 1831 3584 \r\nQ 2591 3584 2966 3190 \r\nQ 3341 2797 3341 1997 \r\nz\r\n\" id=\"DejaVuSans-61\" transform=\"scale(0.015625)\"/>\r\n       <path d=\"M 1959 3097 \r\nQ 1497 3097 1228 2736 \r\nQ 959 2375 959 1747 \r\nQ 959 1119 1226 758 \r\nQ 1494 397 1959 397 \r\nQ 2419 397 2687 759 \r\nQ 2956 1122 2956 1747 \r\nQ 2956 2369 2687 2733 \r\nQ 2419 3097 1959 3097 \r\nz\r\nM 1959 3584 \r\nQ 2709 3584 3137 3096 \r\nQ 3566 2609 3566 1747 \r\nQ 3566 888 3137 398 \r\nQ 2709 -91 1959 -91 \r\nQ 1206 -91 779 398 \r\nQ 353 888 353 1747 \r\nQ 353 2609 779 3096 \r\nQ 1206 3584 1959 3584 \r\nz\r\n\" id=\"DejaVuSans-6f\" transform=\"scale(0.015625)\"/>\r\n       <path d=\"M 3513 2113 \r\nL 3513 0 \r\nL 2938 0 \r\nL 2938 2094 \r\nQ 2938 2591 2744 2837 \r\nQ 2550 3084 2163 3084 \r\nQ 1697 3084 1428 2787 \r\nQ 1159 2491 1159 1978 \r\nL 1159 0 \r\nL 581 0 \r\nL 581 3500 \r\nL 1159 3500 \r\nL 1159 2956 \r\nQ 1366 3272 1645 3428 \r\nQ 1925 3584 2291 3584 \r\nQ 2894 3584 3203 3211 \r\nQ 3513 2838 3513 2113 \r\nz\r\n\" id=\"DejaVuSans-6e\" transform=\"scale(0.015625)\"/>\r\n       <path d=\"M 2834 3397 \r\nL 2834 2853 \r\nQ 2591 2978 2328 3040 \r\nQ 2066 3103 1784 3103 \r\nQ 1356 3103 1142 2972 \r\nQ 928 2841 928 2578 \r\nQ 928 2378 1081 2264 \r\nQ 1234 2150 1697 2047 \r\nL 1894 2003 \r\nQ 2506 1872 2764 1633 \r\nQ 3022 1394 3022 966 \r\nQ 3022 478 2636 193 \r\nQ 2250 -91 1575 -91 \r\nQ 1294 -91 989 -36 \r\nQ 684 19 347 128 \r\nL 347 722 \r\nQ 666 556 975 473 \r\nQ 1284 391 1588 391 \r\nQ 1994 391 2212 530 \r\nQ 2431 669 2431 922 \r\nQ 2431 1156 2273 1281 \r\nQ 2116 1406 1581 1522 \r\nL 1381 1569 \r\nQ 847 1681 609 1914 \r\nQ 372 2147 372 2553 \r\nQ 372 3047 722 3315 \r\nQ 1072 3584 1716 3584 \r\nQ 2034 3584 2315 3537 \r\nQ 2597 3491 2834 3397 \r\nz\r\n\" id=\"DejaVuSans-73\" transform=\"scale(0.015625)\"/>\r\n      </defs>\r\n      <use xlink:href=\"#DejaVuSans-69\"/>\r\n      <use x=\"27.783203\" xlink:href=\"#DejaVuSans-74\"/>\r\n      <use x=\"66.992188\" xlink:href=\"#DejaVuSans-65\"/>\r\n      <use x=\"128.515625\" xlink:href=\"#DejaVuSans-72\"/>\r\n      <use x=\"169.628906\" xlink:href=\"#DejaVuSans-61\"/>\r\n      <use x=\"230.908203\" xlink:href=\"#DejaVuSans-74\"/>\r\n      <use x=\"270.117188\" xlink:href=\"#DejaVuSans-69\"/>\r\n      <use x=\"297.900391\" xlink:href=\"#DejaVuSans-6f\"/>\r\n      <use x=\"359.082031\" xlink:href=\"#DejaVuSans-6e\"/>\r\n      <use x=\"422.460938\" xlink:href=\"#DejaVuSans-73\"/>\r\n     </g>\r\n    </g>\r\n   </g>\r\n   <g id=\"matplotlib.axis_2\">\r\n    <g id=\"ytick_1\">\r\n     <g id=\"line2d_8\">\r\n      <defs>\r\n       <path d=\"M 0 0 \r\nL -3.5 0 \r\n\" id=\"m6d3edad708\" style=\"stroke:#000000;stroke-width:0.8;\"/>\r\n      </defs>\r\n      <g>\r\n       <use style=\"stroke:#000000;stroke-width:0.8;\" x=\"46.965625\" xlink:href=\"#m6d3edad708\" y=\"313.990987\"/>\r\n      </g>\r\n     </g>\r\n     <g id=\"text_9\">\r\n      <!-- 0 -->\r\n      <g transform=\"translate(33.603125 317.790206)scale(0.1 -0.1)\">\r\n       <use xlink:href=\"#DejaVuSans-30\"/>\r\n      </g>\r\n     </g>\r\n    </g>\r\n    <g id=\"ytick_2\">\r\n     <g id=\"line2d_9\">\r\n      <g>\r\n       <use style=\"stroke:#000000;stroke-width:0.8;\" x=\"46.965625\" xlink:href=\"#m6d3edad708\" y=\"277.46825\"/>\r\n      </g>\r\n     </g>\r\n     <g id=\"text_10\">\r\n      <!-- 25 -->\r\n      <g transform=\"translate(27.240625 281.267469)scale(0.1 -0.1)\">\r\n       <use xlink:href=\"#DejaVuSans-32\"/>\r\n       <use x=\"63.623047\" xlink:href=\"#DejaVuSans-35\"/>\r\n      </g>\r\n     </g>\r\n    </g>\r\n    <g id=\"ytick_3\">\r\n     <g id=\"line2d_10\">\r\n      <g>\r\n       <use style=\"stroke:#000000;stroke-width:0.8;\" x=\"46.965625\" xlink:href=\"#m6d3edad708\" y=\"240.945513\"/>\r\n      </g>\r\n     </g>\r\n     <g id=\"text_11\">\r\n      <!-- 50 -->\r\n      <g transform=\"translate(27.240625 244.744732)scale(0.1 -0.1)\">\r\n       <use xlink:href=\"#DejaVuSans-35\"/>\r\n       <use x=\"63.623047\" xlink:href=\"#DejaVuSans-30\"/>\r\n      </g>\r\n     </g>\r\n    </g>\r\n    <g id=\"ytick_4\">\r\n     <g id=\"line2d_11\">\r\n      <g>\r\n       <use style=\"stroke:#000000;stroke-width:0.8;\" x=\"46.965625\" xlink:href=\"#m6d3edad708\" y=\"204.422776\"/>\r\n      </g>\r\n     </g>\r\n     <g id=\"text_12\">\r\n      <!-- 75 -->\r\n      <g transform=\"translate(27.240625 208.221995)scale(0.1 -0.1)\">\r\n       <defs>\r\n        <path d=\"M 525 4666 \r\nL 3525 4666 \r\nL 3525 4397 \r\nL 1831 0 \r\nL 1172 0 \r\nL 2766 4134 \r\nL 525 4134 \r\nL 525 4666 \r\nz\r\n\" id=\"DejaVuSans-37\" transform=\"scale(0.015625)\"/>\r\n       </defs>\r\n       <use xlink:href=\"#DejaVuSans-37\"/>\r\n       <use x=\"63.623047\" xlink:href=\"#DejaVuSans-35\"/>\r\n      </g>\r\n     </g>\r\n    </g>\r\n    <g id=\"ytick_5\">\r\n     <g id=\"line2d_12\">\r\n      <g>\r\n       <use style=\"stroke:#000000;stroke-width:0.8;\" x=\"46.965625\" xlink:href=\"#m6d3edad708\" y=\"167.900039\"/>\r\n      </g>\r\n     </g>\r\n     <g id=\"text_13\">\r\n      <!-- 100 -->\r\n      <g transform=\"translate(20.878125 171.699258)scale(0.1 -0.1)\">\r\n       <use xlink:href=\"#DejaVuSans-31\"/>\r\n       <use x=\"63.623047\" xlink:href=\"#DejaVuSans-30\"/>\r\n       <use x=\"127.246094\" xlink:href=\"#DejaVuSans-30\"/>\r\n      </g>\r\n     </g>\r\n    </g>\r\n    <g id=\"ytick_6\">\r\n     <g id=\"line2d_13\">\r\n      <g>\r\n       <use style=\"stroke:#000000;stroke-width:0.8;\" x=\"46.965625\" xlink:href=\"#m6d3edad708\" y=\"131.377302\"/>\r\n      </g>\r\n     </g>\r\n     <g id=\"text_14\">\r\n      <!-- 125 -->\r\n      <g transform=\"translate(20.878125 135.176521)scale(0.1 -0.1)\">\r\n       <use xlink:href=\"#DejaVuSans-31\"/>\r\n       <use x=\"63.623047\" xlink:href=\"#DejaVuSans-32\"/>\r\n       <use x=\"127.246094\" xlink:href=\"#DejaVuSans-35\"/>\r\n      </g>\r\n     </g>\r\n    </g>\r\n    <g id=\"ytick_7\">\r\n     <g id=\"line2d_14\">\r\n      <g>\r\n       <use style=\"stroke:#000000;stroke-width:0.8;\" x=\"46.965625\" xlink:href=\"#m6d3edad708\" y=\"94.854565\"/>\r\n      </g>\r\n     </g>\r\n     <g id=\"text_15\">\r\n      <!-- 150 -->\r\n      <g transform=\"translate(20.878125 98.653784)scale(0.1 -0.1)\">\r\n       <use xlink:href=\"#DejaVuSans-31\"/>\r\n       <use x=\"63.623047\" xlink:href=\"#DejaVuSans-35\"/>\r\n       <use x=\"127.246094\" xlink:href=\"#DejaVuSans-30\"/>\r\n      </g>\r\n     </g>\r\n    </g>\r\n    <g id=\"ytick_8\">\r\n     <g id=\"line2d_15\">\r\n      <g>\r\n       <use style=\"stroke:#000000;stroke-width:0.8;\" x=\"46.965625\" xlink:href=\"#m6d3edad708\" y=\"58.331828\"/>\r\n      </g>\r\n     </g>\r\n     <g id=\"text_16\">\r\n      <!-- 175 -->\r\n      <g transform=\"translate(20.878125 62.131047)scale(0.1 -0.1)\">\r\n       <use xlink:href=\"#DejaVuSans-31\"/>\r\n       <use x=\"63.623047\" xlink:href=\"#DejaVuSans-37\"/>\r\n       <use x=\"127.246094\" xlink:href=\"#DejaVuSans-35\"/>\r\n      </g>\r\n     </g>\r\n    </g>\r\n    <g id=\"ytick_9\">\r\n     <g id=\"line2d_16\">\r\n      <g>\r\n       <use style=\"stroke:#000000;stroke-width:0.8;\" x=\"46.965625\" xlink:href=\"#m6d3edad708\" y=\"21.809091\"/>\r\n      </g>\r\n     </g>\r\n     <g id=\"text_17\">\r\n      <!-- 200 -->\r\n      <g transform=\"translate(20.878125 25.60831)scale(0.1 -0.1)\">\r\n       <use xlink:href=\"#DejaVuSans-32\"/>\r\n       <use x=\"63.623047\" xlink:href=\"#DejaVuSans-30\"/>\r\n       <use x=\"127.246094\" xlink:href=\"#DejaVuSans-30\"/>\r\n      </g>\r\n     </g>\r\n    </g>\r\n    <g id=\"text_18\">\r\n     <!-- difference -->\r\n     <g transform=\"translate(14.798437 193.074219)rotate(-90)scale(0.1 -0.1)\">\r\n      <defs>\r\n       <path d=\"M 2906 2969 \r\nL 2906 4863 \r\nL 3481 4863 \r\nL 3481 0 \r\nL 2906 0 \r\nL 2906 525 \r\nQ 2725 213 2448 61 \r\nQ 2172 -91 1784 -91 \r\nQ 1150 -91 751 415 \r\nQ 353 922 353 1747 \r\nQ 353 2572 751 3078 \r\nQ 1150 3584 1784 3584 \r\nQ 2172 3584 2448 3432 \r\nQ 2725 3281 2906 2969 \r\nz\r\nM 947 1747 \r\nQ 947 1113 1208 752 \r\nQ 1469 391 1925 391 \r\nQ 2381 391 2643 752 \r\nQ 2906 1113 2906 1747 \r\nQ 2906 2381 2643 2742 \r\nQ 2381 3103 1925 3103 \r\nQ 1469 3103 1208 2742 \r\nQ 947 2381 947 1747 \r\nz\r\n\" id=\"DejaVuSans-64\" transform=\"scale(0.015625)\"/>\r\n       <path d=\"M 2375 4863 \r\nL 2375 4384 \r\nL 1825 4384 \r\nQ 1516 4384 1395 4259 \r\nQ 1275 4134 1275 3809 \r\nL 1275 3500 \r\nL 2222 3500 \r\nL 2222 3053 \r\nL 1275 3053 \r\nL 1275 0 \r\nL 697 0 \r\nL 697 3053 \r\nL 147 3053 \r\nL 147 3500 \r\nL 697 3500 \r\nL 697 3744 \r\nQ 697 4328 969 4595 \r\nQ 1241 4863 1831 4863 \r\nL 2375 4863 \r\nz\r\n\" id=\"DejaVuSans-66\" transform=\"scale(0.015625)\"/>\r\n       <path d=\"M 3122 3366 \r\nL 3122 2828 \r\nQ 2878 2963 2633 3030 \r\nQ 2388 3097 2138 3097 \r\nQ 1578 3097 1268 2742 \r\nQ 959 2388 959 1747 \r\nQ 959 1106 1268 751 \r\nQ 1578 397 2138 397 \r\nQ 2388 397 2633 464 \r\nQ 2878 531 3122 666 \r\nL 3122 134 \r\nQ 2881 22 2623 -34 \r\nQ 2366 -91 2075 -91 \r\nQ 1284 -91 818 406 \r\nQ 353 903 353 1747 \r\nQ 353 2603 823 3093 \r\nQ 1294 3584 2113 3584 \r\nQ 2378 3584 2631 3529 \r\nQ 2884 3475 3122 3366 \r\nz\r\n\" id=\"DejaVuSans-63\" transform=\"scale(0.015625)\"/>\r\n      </defs>\r\n      <use xlink:href=\"#DejaVuSans-64\"/>\r\n      <use x=\"63.476562\" xlink:href=\"#DejaVuSans-69\"/>\r\n      <use x=\"91.259766\" xlink:href=\"#DejaVuSans-66\"/>\r\n      <use x=\"126.464844\" xlink:href=\"#DejaVuSans-66\"/>\r\n      <use x=\"161.669922\" xlink:href=\"#DejaVuSans-65\"/>\r\n      <use x=\"223.193359\" xlink:href=\"#DejaVuSans-72\"/>\r\n      <use x=\"262.056641\" xlink:href=\"#DejaVuSans-65\"/>\r\n      <use x=\"323.580078\" xlink:href=\"#DejaVuSans-6e\"/>\r\n      <use x=\"386.958984\" xlink:href=\"#DejaVuSans-63\"/>\r\n      <use x=\"441.939453\" xlink:href=\"#DejaVuSans-65\"/>\r\n     </g>\r\n    </g>\r\n   </g>\r\n   <g id=\"line2d_17\">\r\n    <path clip-path=\"url(#pfddef56fb8)\" d=\"M 60.962745 21.809091 \r\nL 61.911702 284.772798 \r\nL 62.860659 311.069168 \r\nL 63.809616 313.698806 \r\nL 64.758574 313.961769 \r\n\" style=\"fill:none;stroke:#1f77b4;stroke-linecap:square;stroke-width:1.5;\"/>\r\n   </g>\r\n   <g id=\"line2d_18\">\r\n    <path clip-path=\"url(#pfddef56fb8)\" d=\"M 60.962745 21.809091 \r\nL 61.911702 255.554608 \r\nL 62.860659 302.303712 \r\nL 63.809616 311.653532 \r\nL 64.758574 313.523496 \r\nL 65.707531 313.897489 \r\nL 66.656488 313.972288 \r\n\" style=\"fill:none;stroke:#ff7f0e;stroke-linecap:square;stroke-width:1.5;\"/>\r\n   </g>\r\n   <g id=\"line2d_19\">\r\n    <path clip-path=\"url(#pfddef56fb8)\" d=\"M 60.962745 21.809091 \r\nL 61.911702 226.336418 \r\nL 62.860659 287.694617 \r\nL 63.809616 306.102076 \r\nL 64.758574 311.624314 \r\nL 65.707531 313.280985 \r\nL 66.656488 313.777987 \r\nL 67.605445 313.927087 \r\nL 68.554403 313.971817 \r\nL 69.50336 313.985236 \r\n\" style=\"fill:none;stroke:#2ca02c;stroke-linecap:square;stroke-width:1.5;\"/>\r\n   </g>\r\n   <g id=\"line2d_20\">\r\n    <path clip-path=\"url(#pfddef56fb8)\" d=\"M 60.962745 21.809091 \r\nL 61.911702 197.118229 \r\nL 62.860659 267.241884 \r\nL 63.809616 295.291346 \r\nL 64.758574 306.511131 \r\nL 65.707531 310.999045 \r\nL 66.656488 312.79421 \r\nL 67.605445 313.512277 \r\nL 68.554403 313.799503 \r\nL 69.50336 313.914394 \r\nL 70.452317 313.96035 \r\nL 71.401275 313.978732 \r\nL 72.350232 313.986085 \r\n\" style=\"fill:none;stroke:#d62728;stroke-linecap:square;stroke-width:1.5;\"/>\r\n   </g>\r\n   <g id=\"line2d_21\">\r\n    <path clip-path=\"url(#pfddef56fb8)\" d=\"M 60.962745 21.809091 \r\nL 61.911702 167.900039 \r\nL 62.860659 240.945513 \r\nL 63.809616 277.46825 \r\nL 64.758574 295.729619 \r\nL 65.707531 304.860303 \r\nL 66.656488 309.425645 \r\nL 67.605445 311.708316 \r\nL 68.554403 312.849652 \r\nL 69.50336 313.42032 \r\nL 70.452317 313.705654 \r\nL 71.401275 313.848321 \r\nL 72.350232 313.919654 \r\nL 73.299189 313.955321 \r\nL 74.248146 313.973154 \r\nL 75.197104 313.982071 \r\nL 76.146061 313.986529 \r\nL 77.095018 313.988758 \r\n\" style=\"fill:none;stroke:#9467bd;stroke-linecap:square;stroke-width:1.5;\"/>\r\n   </g>\r\n   <g id=\"line2d_22\">\r\n    <path clip-path=\"url(#pfddef56fb8)\" d=\"M 60.962745 21.809091 \r\nL 61.911702 138.68185 \r\nL 62.860659 208.805505 \r\nL 63.809616 250.879698 \r\nL 64.758574 276.124214 \r\nL 65.707531 291.270923 \r\nL 66.656488 300.358949 \r\nL 67.605445 305.811764 \r\nL 68.554403 309.083454 \r\nL 69.50336 311.046467 \r\nL 70.452317 312.224275 \r\nL 71.401275 312.93096 \r\nL 72.350232 313.354971 \r\nL 73.299189 313.609378 \r\nL 74.248146 313.762022 \r\nL 75.197104 313.853608 \r\nL 76.146061 313.90856 \r\nL 77.095018 313.941531 \r\nL 78.043975 313.961313 \r\nL 78.992933 313.973183 \r\nL 79.94189 313.980305 \r\nL 80.890847 313.984578 \r\nL 81.839804 313.987142 \r\nL 82.788762 313.98868 \r\nL 83.737719 313.989603 \r\n\" style=\"fill:none;stroke:#8c564b;stroke-linecap:square;stroke-width:1.5;\"/>\r\n   </g>\r\n   <g id=\"line2d_23\">\r\n    <path clip-path=\"url(#pfddef56fb8)\" d=\"M 60.962745 21.809091 \r\nL 61.911702 109.46366 \r\nL 62.860659 170.821858 \r\nL 63.809616 213.772597 \r\nL 64.758574 243.838114 \r\nL 65.707531 264.883976 \r\nL 66.656488 279.61608 \r\nL 67.605445 289.928552 \r\nL 68.554403 297.147283 \r\nL 69.50336 302.200394 \r\nL 70.452317 305.737572 \r\nL 71.401275 308.213597 \r\nL 72.350232 309.946814 \r\nL 73.299189 311.160066 \r\nL 74.248146 312.009342 \r\nL 75.197104 312.603836 \r\nL 76.146061 313.019981 \r\nL 77.095018 313.311283 \r\nL 78.043975 313.515194 \r\nL 78.992933 313.657932 \r\nL 79.94189 313.757849 \r\nL 80.890847 313.82779 \r\nL 81.839804 313.87675 \r\nL 82.788762 313.911021 \r\nL 83.737719 313.935011 \r\nL 84.686676 313.951804 \r\nL 85.635633 313.963559 \r\nL 86.584591 313.971787 \r\nL 87.533548 313.977547 \r\nL 88.482505 313.981579 \r\nL 89.431463 313.984402 \r\nL 90.38042 313.986378 \r\nL 91.329377 313.987761 \r\nL 92.278334 313.988729 \r\nL 93.227292 313.989406 \r\nL 94.176249 313.989881 \r\nL 95.125206 313.990213 \r\n\" style=\"fill:none;stroke:#e377c2;stroke-linecap:square;stroke-width:1.5;\"/>\r\n   </g>\r\n   <g id=\"line2d_24\">\r\n    <path clip-path=\"url(#pfddef56fb8)\" d=\"M 60.962745 21.809091 \r\nL 61.911702 80.24547 \r\nL 62.860659 126.994574 \r\nL 63.809616 164.393856 \r\nL 64.758574 194.313283 \r\nL 65.707531 218.248824 \r\nL 66.656488 237.397256 \r\nL 67.605445 252.716003 \r\nL 68.554403 264.971 \r\nL 69.50336 274.774997 \r\nL 70.452317 282.618195 \r\nL 71.401275 288.892754 \r\nL 72.350232 293.9124 \r\nL 73.299189 297.928118 \r\nL 74.248146 301.140692 \r\nL 75.197104 303.710751 \r\nL 76.146061 305.766798 \r\nL 77.095018 307.411636 \r\nL 78.043975 308.727506 \r\nL 78.992933 309.780203 \r\nL 79.94189 310.62236 \r\nL 80.890847 311.296085 \r\nL 81.839804 311.835066 \r\nL 82.788762 312.26625 \r\nL 83.737719 312.611197 \r\nL 84.686676 312.887155 \r\nL 85.635633 313.107922 \r\nL 86.584591 313.284535 \r\nL 87.533548 313.425825 \r\nL 88.482505 313.538858 \r\nL 89.431463 313.629284 \r\nL 90.38042 313.701625 \r\nL 91.329377 313.759497 \r\nL 92.278334 313.805795 \r\nL 93.227292 313.842834 \r\nL 94.176249 313.872464 \r\nL 95.125206 313.896169 \r\nL 96.074163 313.915133 \r\nL 97.023121 313.930304 \r\nL 97.972078 313.94244 \r\nL 98.921035 313.95215 \r\nL 99.869992 313.959917 \r\nL 100.81895 313.966131 \r\nL 101.767907 313.971103 \r\nL 102.716864 313.97508 \r\nL 103.665821 313.978261 \r\nL 104.614779 313.980806 \r\nL 105.563736 313.982843 \r\nL 106.512693 313.984472 \r\nL 107.461651 313.985775 \r\nL 108.410608 313.986817 \r\nL 109.359565 313.987651 \r\nL 110.308522 313.988319 \r\nL 111.25748 313.988852 \r\nL 112.206437 313.989279 \r\nL 113.155394 313.989621 \r\nL 114.104351 313.989894 \r\nL 115.053309 313.990113 \r\nL 116.002266 313.990288 \r\nL 116.951223 313.990428 \r\nL 117.90018 313.99054 \r\n\" style=\"fill:none;stroke:#7f7f7f;stroke-linecap:square;stroke-width:1.5;\"/>\r\n   </g>\r\n   <g id=\"line2d_25\">\r\n    <path clip-path=\"url(#pfddef56fb8)\" d=\"M 60.962745 21.809091 \r\nL 62.860659 77.323651 \r\nL 64.758574 122.290445 \r\nL 66.656488 158.713548 \r\nL 68.554403 188.216262 \r\nL 70.452317 212.11346 \r\nL 72.350232 231.47019 \r\nL 74.248146 247.149141 \r\nL 76.146061 259.849092 \r\nL 78.043975 270.136052 \r\nL 79.94189 278.46849 \r\nL 81.839804 285.217764 \r\nL 83.737719 290.684677 \r\nL 85.635633 295.112876 \r\nL 87.533548 298.699717 \r\nL 89.431463 301.605058 \r\nL 91.329377 303.958385 \r\nL 93.227292 305.864579 \r\nL 95.125206 307.408597 \r\nL 97.023121 308.659251 \r\nL 98.921035 309.672281 \r\nL 100.81895 310.492835 \r\nL 103.665821 311.440835 \r\nL 106.512693 312.131926 \r\nL 110.308522 312.771257 \r\nL 115.053309 313.270749 \r\nL 120.747052 313.608223 \r\nL 129.287668 313.842697 \r\nL 143.522027 313.960456 \r\nL 187.174061 313.990748 \r\nL 190.020932 313.990813 \r\nL 190.020932 313.990813 \r\n\" style=\"fill:none;stroke:#bcbd22;stroke-linecap:square;stroke-width:1.5;\"/>\r\n   </g>\r\n   <g id=\"line2d_26\">\r\n    <path clip-path=\"url(#pfddef56fb8)\" d=\"M 60.962745 21.809091 \r\nL 62.860659 50.296826 \r\nL 64.758574 76.007007 \r\nL 66.656488 99.210445 \r\nL 68.554403 120.151548 \r\nL 70.452317 139.050893 \r\nL 72.350232 156.107552 \r\nL 74.248146 171.501187 \r\nL 76.146061 185.393943 \r\nL 78.043975 197.932155 \r\nL 79.94189 209.247891 \r\nL 81.839804 219.460343 \r\nL 83.737719 228.677081 \r\nL 85.635633 236.995186 \r\nL 87.533548 244.502277 \r\nL 89.431463 251.277426 \r\nL 91.329377 257.391999 \r\nL 93.227292 262.9104 \r\nL 95.125206 267.890757 \r\nL 97.023121 272.38553 \r\nL 98.921035 276.442062 \r\nL 100.81895 280.103082 \r\nL 102.716864 283.407153 \r\nL 104.614779 286.389077 \r\nL 106.512693 289.080263 \r\nL 108.410608 291.509059 \r\nL 111.25748 294.715544 \r\nL 114.104351 297.464704 \r\nL 116.951223 299.821765 \r\nL 119.798095 301.84265 \r\nL 122.644967 303.575307 \r\nL 125.491839 305.060843 \r\nL 128.33871 306.334505 \r\nL 132.134539 307.754735 \r\nL 135.930368 308.911521 \r\nL 139.726197 309.85373 \r\nL 144.470984 310.789657 \r\nL 150.164727 311.637715 \r\nL 155.858471 312.261116 \r\nL 163.450129 312.843355 \r\nL 171.990744 313.267693 \r\nL 183.378232 313.600148 \r\nL 199.510505 313.82757 \r\nL 227.030266 313.954066 \r\nL 301.99789 313.990346 \r\nL 340.905137 313.990909 \r\nL 340.905137 313.990909 \r\n\" style=\"fill:none;stroke:#17becf;stroke-linecap:square;stroke-width:1.5;\"/>\r\n   </g>\r\n   <g id=\"line2d_27\"/>\r\n   <g id=\"line2d_28\"/>\r\n   <g id=\"line2d_29\"/>\r\n   <g id=\"line2d_30\"/>\r\n   <g id=\"line2d_31\"/>\r\n   <g id=\"line2d_32\"/>\r\n   <g id=\"line2d_33\"/>\r\n   <g id=\"line2d_34\"/>\r\n   <g id=\"line2d_35\"/>\r\n   <g id=\"line2d_36\"/>\r\n   <g id=\"patch_3\">\r\n    <path d=\"M 46.965625 328.6 \r\nL 46.965625 7.2 \r\n\" style=\"fill:none;stroke:#000000;stroke-linecap:square;stroke-linejoin:miter;stroke-width:0.8;\"/>\r\n   </g>\r\n   <g id=\"patch_4\">\r\n    <path d=\"M 46.965625 328.6 \r\nL 354.902257 328.6 \r\n\" style=\"fill:none;stroke:#000000;stroke-linecap:square;stroke-linejoin:miter;stroke-width:0.8;\"/>\r\n   </g>\r\n  </g>\r\n  <g id=\"legend_1\">\r\n   <g id=\"text_19\">\r\n    <!-- discount -->\r\n    <g transform=\"translate(386.503819 112.446875)scale(0.1 -0.1)\">\r\n     <defs>\r\n      <path d=\"M 544 1381 \r\nL 544 3500 \r\nL 1119 3500 \r\nL 1119 1403 \r\nQ 1119 906 1312 657 \r\nQ 1506 409 1894 409 \r\nQ 2359 409 2629 706 \r\nQ 2900 1003 2900 1516 \r\nL 2900 3500 \r\nL 3475 3500 \r\nL 3475 0 \r\nL 2900 0 \r\nL 2900 538 \r\nQ 2691 219 2414 64 \r\nQ 2138 -91 1772 -91 \r\nQ 1169 -91 856 284 \r\nQ 544 659 544 1381 \r\nz\r\nM 1991 3584 \r\nL 1991 3584 \r\nz\r\n\" id=\"DejaVuSans-75\" transform=\"scale(0.015625)\"/>\r\n     </defs>\r\n     <use xlink:href=\"#DejaVuSans-64\"/>\r\n     <use x=\"63.476562\" xlink:href=\"#DejaVuSans-69\"/>\r\n     <use x=\"91.259766\" xlink:href=\"#DejaVuSans-73\"/>\r\n     <use x=\"143.359375\" xlink:href=\"#DejaVuSans-63\"/>\r\n     <use x=\"198.339844\" xlink:href=\"#DejaVuSans-6f\"/>\r\n     <use x=\"259.521484\" xlink:href=\"#DejaVuSans-75\"/>\r\n     <use x=\"322.900391\" xlink:href=\"#DejaVuSans-6e\"/>\r\n     <use x=\"386.279297\" xlink:href=\"#DejaVuSans-74\"/>\r\n    </g>\r\n   </g>\r\n   <g id=\"line2d_37\">\r\n    <path d=\"M 360.328819 123.625 \r\nL 380.328819 123.625 \r\n\" style=\"fill:none;stroke:#1f77b4;stroke-linecap:square;stroke-width:1.5;\"/>\r\n   </g>\r\n   <g id=\"line2d_38\"/>\r\n   <g id=\"text_20\">\r\n    <!-- gamma: 0.1 -->\r\n    <g transform=\"translate(388.328819 127.125)scale(0.1 -0.1)\">\r\n     <defs>\r\n      <path d=\"M 2906 1791 \r\nQ 2906 2416 2648 2759 \r\nQ 2391 3103 1925 3103 \r\nQ 1463 3103 1205 2759 \r\nQ 947 2416 947 1791 \r\nQ 947 1169 1205 825 \r\nQ 1463 481 1925 481 \r\nQ 2391 481 2648 825 \r\nQ 2906 1169 2906 1791 \r\nz\r\nM 3481 434 \r\nQ 3481 -459 3084 -895 \r\nQ 2688 -1331 1869 -1331 \r\nQ 1566 -1331 1297 -1286 \r\nQ 1028 -1241 775 -1147 \r\nL 775 -588 \r\nQ 1028 -725 1275 -790 \r\nQ 1522 -856 1778 -856 \r\nQ 2344 -856 2625 -561 \r\nQ 2906 -266 2906 331 \r\nL 2906 616 \r\nQ 2728 306 2450 153 \r\nQ 2172 0 1784 0 \r\nQ 1141 0 747 490 \r\nQ 353 981 353 1791 \r\nQ 353 2603 747 3093 \r\nQ 1141 3584 1784 3584 \r\nQ 2172 3584 2450 3431 \r\nQ 2728 3278 2906 2969 \r\nL 2906 3500 \r\nL 3481 3500 \r\nL 3481 434 \r\nz\r\n\" id=\"DejaVuSans-67\" transform=\"scale(0.015625)\"/>\r\n      <path d=\"M 3328 2828 \r\nQ 3544 3216 3844 3400 \r\nQ 4144 3584 4550 3584 \r\nQ 5097 3584 5394 3201 \r\nQ 5691 2819 5691 2113 \r\nL 5691 0 \r\nL 5113 0 \r\nL 5113 2094 \r\nQ 5113 2597 4934 2840 \r\nQ 4756 3084 4391 3084 \r\nQ 3944 3084 3684 2787 \r\nQ 3425 2491 3425 1978 \r\nL 3425 0 \r\nL 2847 0 \r\nL 2847 2094 \r\nQ 2847 2600 2669 2842 \r\nQ 2491 3084 2119 3084 \r\nQ 1678 3084 1418 2786 \r\nQ 1159 2488 1159 1978 \r\nL 1159 0 \r\nL 581 0 \r\nL 581 3500 \r\nL 1159 3500 \r\nL 1159 2956 \r\nQ 1356 3278 1631 3431 \r\nQ 1906 3584 2284 3584 \r\nQ 2666 3584 2933 3390 \r\nQ 3200 3197 3328 2828 \r\nz\r\n\" id=\"DejaVuSans-6d\" transform=\"scale(0.015625)\"/>\r\n      <path d=\"M 750 794 \r\nL 1409 794 \r\nL 1409 0 \r\nL 750 0 \r\nL 750 794 \r\nz\r\nM 750 3309 \r\nL 1409 3309 \r\nL 1409 2516 \r\nL 750 2516 \r\nL 750 3309 \r\nz\r\n\" id=\"DejaVuSans-3a\" transform=\"scale(0.015625)\"/>\r\n      <path id=\"DejaVuSans-20\" transform=\"scale(0.015625)\"/>\r\n      <path d=\"M 684 794 \r\nL 1344 794 \r\nL 1344 0 \r\nL 684 0 \r\nL 684 794 \r\nz\r\n\" id=\"DejaVuSans-2e\" transform=\"scale(0.015625)\"/>\r\n     </defs>\r\n     <use xlink:href=\"#DejaVuSans-67\"/>\r\n     <use x=\"63.476562\" xlink:href=\"#DejaVuSans-61\"/>\r\n     <use x=\"124.755859\" xlink:href=\"#DejaVuSans-6d\"/>\r\n     <use x=\"222.167969\" xlink:href=\"#DejaVuSans-6d\"/>\r\n     <use x=\"319.580078\" xlink:href=\"#DejaVuSans-61\"/>\r\n     <use x=\"380.859375\" xlink:href=\"#DejaVuSans-3a\"/>\r\n     <use x=\"414.550781\" xlink:href=\"#DejaVuSans-20\"/>\r\n     <use x=\"446.337891\" xlink:href=\"#DejaVuSans-30\"/>\r\n     <use x=\"509.960938\" xlink:href=\"#DejaVuSans-2e\"/>\r\n     <use x=\"541.748047\" xlink:href=\"#DejaVuSans-31\"/>\r\n    </g>\r\n   </g>\r\n   <g id=\"line2d_39\">\r\n    <path d=\"M 360.328819 138.303125 \r\nL 380.328819 138.303125 \r\n\" style=\"fill:none;stroke:#ff7f0e;stroke-linecap:square;stroke-width:1.5;\"/>\r\n   </g>\r\n   <g id=\"line2d_40\"/>\r\n   <g id=\"text_21\">\r\n    <!-- gamma: 0.2 -->\r\n    <g transform=\"translate(388.328819 141.803125)scale(0.1 -0.1)\">\r\n     <use xlink:href=\"#DejaVuSans-67\"/>\r\n     <use x=\"63.476562\" xlink:href=\"#DejaVuSans-61\"/>\r\n     <use x=\"124.755859\" xlink:href=\"#DejaVuSans-6d\"/>\r\n     <use x=\"222.167969\" xlink:href=\"#DejaVuSans-6d\"/>\r\n     <use x=\"319.580078\" xlink:href=\"#DejaVuSans-61\"/>\r\n     <use x=\"380.859375\" xlink:href=\"#DejaVuSans-3a\"/>\r\n     <use x=\"414.550781\" xlink:href=\"#DejaVuSans-20\"/>\r\n     <use x=\"446.337891\" xlink:href=\"#DejaVuSans-30\"/>\r\n     <use x=\"509.960938\" xlink:href=\"#DejaVuSans-2e\"/>\r\n     <use x=\"541.748047\" xlink:href=\"#DejaVuSans-32\"/>\r\n    </g>\r\n   </g>\r\n   <g id=\"line2d_41\">\r\n    <path d=\"M 360.328819 152.98125 \r\nL 380.328819 152.98125 \r\n\" style=\"fill:none;stroke:#2ca02c;stroke-linecap:square;stroke-width:1.5;\"/>\r\n   </g>\r\n   <g id=\"line2d_42\"/>\r\n   <g id=\"text_22\">\r\n    <!-- gamma: 0.3 -->\r\n    <g transform=\"translate(388.328819 156.48125)scale(0.1 -0.1)\">\r\n     <use xlink:href=\"#DejaVuSans-67\"/>\r\n     <use x=\"63.476562\" xlink:href=\"#DejaVuSans-61\"/>\r\n     <use x=\"124.755859\" xlink:href=\"#DejaVuSans-6d\"/>\r\n     <use x=\"222.167969\" xlink:href=\"#DejaVuSans-6d\"/>\r\n     <use x=\"319.580078\" xlink:href=\"#DejaVuSans-61\"/>\r\n     <use x=\"380.859375\" xlink:href=\"#DejaVuSans-3a\"/>\r\n     <use x=\"414.550781\" xlink:href=\"#DejaVuSans-20\"/>\r\n     <use x=\"446.337891\" xlink:href=\"#DejaVuSans-30\"/>\r\n     <use x=\"509.960938\" xlink:href=\"#DejaVuSans-2e\"/>\r\n     <use x=\"541.748047\" xlink:href=\"#DejaVuSans-33\"/>\r\n    </g>\r\n   </g>\r\n   <g id=\"line2d_43\">\r\n    <path d=\"M 360.328819 167.659375 \r\nL 380.328819 167.659375 \r\n\" style=\"fill:none;stroke:#d62728;stroke-linecap:square;stroke-width:1.5;\"/>\r\n   </g>\r\n   <g id=\"line2d_44\"/>\r\n   <g id=\"text_23\">\r\n    <!-- gamma: 0.4 -->\r\n    <g transform=\"translate(388.328819 171.159375)scale(0.1 -0.1)\">\r\n     <defs>\r\n      <path d=\"M 2419 4116 \r\nL 825 1625 \r\nL 2419 1625 \r\nL 2419 4116 \r\nz\r\nM 2253 4666 \r\nL 3047 4666 \r\nL 3047 1625 \r\nL 3713 1625 \r\nL 3713 1100 \r\nL 3047 1100 \r\nL 3047 0 \r\nL 2419 0 \r\nL 2419 1100 \r\nL 313 1100 \r\nL 313 1709 \r\nL 2253 4666 \r\nz\r\n\" id=\"DejaVuSans-34\" transform=\"scale(0.015625)\"/>\r\n     </defs>\r\n     <use xlink:href=\"#DejaVuSans-67\"/>\r\n     <use x=\"63.476562\" xlink:href=\"#DejaVuSans-61\"/>\r\n     <use x=\"124.755859\" xlink:href=\"#DejaVuSans-6d\"/>\r\n     <use x=\"222.167969\" xlink:href=\"#DejaVuSans-6d\"/>\r\n     <use x=\"319.580078\" xlink:href=\"#DejaVuSans-61\"/>\r\n     <use x=\"380.859375\" xlink:href=\"#DejaVuSans-3a\"/>\r\n     <use x=\"414.550781\" xlink:href=\"#DejaVuSans-20\"/>\r\n     <use x=\"446.337891\" xlink:href=\"#DejaVuSans-30\"/>\r\n     <use x=\"509.960938\" xlink:href=\"#DejaVuSans-2e\"/>\r\n     <use x=\"541.748047\" xlink:href=\"#DejaVuSans-34\"/>\r\n    </g>\r\n   </g>\r\n   <g id=\"line2d_45\">\r\n    <path d=\"M 360.328819 182.3375 \r\nL 380.328819 182.3375 \r\n\" style=\"fill:none;stroke:#9467bd;stroke-linecap:square;stroke-width:1.5;\"/>\r\n   </g>\r\n   <g id=\"line2d_46\"/>\r\n   <g id=\"text_24\">\r\n    <!-- gamma: 0.5 -->\r\n    <g transform=\"translate(388.328819 185.8375)scale(0.1 -0.1)\">\r\n     <use xlink:href=\"#DejaVuSans-67\"/>\r\n     <use x=\"63.476562\" xlink:href=\"#DejaVuSans-61\"/>\r\n     <use x=\"124.755859\" xlink:href=\"#DejaVuSans-6d\"/>\r\n     <use x=\"222.167969\" xlink:href=\"#DejaVuSans-6d\"/>\r\n     <use x=\"319.580078\" xlink:href=\"#DejaVuSans-61\"/>\r\n     <use x=\"380.859375\" xlink:href=\"#DejaVuSans-3a\"/>\r\n     <use x=\"414.550781\" xlink:href=\"#DejaVuSans-20\"/>\r\n     <use x=\"446.337891\" xlink:href=\"#DejaVuSans-30\"/>\r\n     <use x=\"509.960938\" xlink:href=\"#DejaVuSans-2e\"/>\r\n     <use x=\"541.748047\" xlink:href=\"#DejaVuSans-35\"/>\r\n    </g>\r\n   </g>\r\n   <g id=\"line2d_47\">\r\n    <path d=\"M 360.328819 197.015625 \r\nL 380.328819 197.015625 \r\n\" style=\"fill:none;stroke:#8c564b;stroke-linecap:square;stroke-width:1.5;\"/>\r\n   </g>\r\n   <g id=\"line2d_48\"/>\r\n   <g id=\"text_25\">\r\n    <!-- gamma: 0.6 -->\r\n    <g transform=\"translate(388.328819 200.515625)scale(0.1 -0.1)\">\r\n     <defs>\r\n      <path d=\"M 2113 2584 \r\nQ 1688 2584 1439 2293 \r\nQ 1191 2003 1191 1497 \r\nQ 1191 994 1439 701 \r\nQ 1688 409 2113 409 \r\nQ 2538 409 2786 701 \r\nQ 3034 994 3034 1497 \r\nQ 3034 2003 2786 2293 \r\nQ 2538 2584 2113 2584 \r\nz\r\nM 3366 4563 \r\nL 3366 3988 \r\nQ 3128 4100 2886 4159 \r\nQ 2644 4219 2406 4219 \r\nQ 1781 4219 1451 3797 \r\nQ 1122 3375 1075 2522 \r\nQ 1259 2794 1537 2939 \r\nQ 1816 3084 2150 3084 \r\nQ 2853 3084 3261 2657 \r\nQ 3669 2231 3669 1497 \r\nQ 3669 778 3244 343 \r\nQ 2819 -91 2113 -91 \r\nQ 1303 -91 875 529 \r\nQ 447 1150 447 2328 \r\nQ 447 3434 972 4092 \r\nQ 1497 4750 2381 4750 \r\nQ 2619 4750 2861 4703 \r\nQ 3103 4656 3366 4563 \r\nz\r\n\" id=\"DejaVuSans-36\" transform=\"scale(0.015625)\"/>\r\n     </defs>\r\n     <use xlink:href=\"#DejaVuSans-67\"/>\r\n     <use x=\"63.476562\" xlink:href=\"#DejaVuSans-61\"/>\r\n     <use x=\"124.755859\" xlink:href=\"#DejaVuSans-6d\"/>\r\n     <use x=\"222.167969\" xlink:href=\"#DejaVuSans-6d\"/>\r\n     <use x=\"319.580078\" xlink:href=\"#DejaVuSans-61\"/>\r\n     <use x=\"380.859375\" xlink:href=\"#DejaVuSans-3a\"/>\r\n     <use x=\"414.550781\" xlink:href=\"#DejaVuSans-20\"/>\r\n     <use x=\"446.337891\" xlink:href=\"#DejaVuSans-30\"/>\r\n     <use x=\"509.960938\" xlink:href=\"#DejaVuSans-2e\"/>\r\n     <use x=\"541.748047\" xlink:href=\"#DejaVuSans-36\"/>\r\n    </g>\r\n   </g>\r\n   <g id=\"line2d_49\">\r\n    <path d=\"M 360.328819 211.69375 \r\nL 380.328819 211.69375 \r\n\" style=\"fill:none;stroke:#e377c2;stroke-linecap:square;stroke-width:1.5;\"/>\r\n   </g>\r\n   <g id=\"line2d_50\"/>\r\n   <g id=\"text_26\">\r\n    <!-- gamma: 0.7 -->\r\n    <g transform=\"translate(388.328819 215.19375)scale(0.1 -0.1)\">\r\n     <use xlink:href=\"#DejaVuSans-67\"/>\r\n     <use x=\"63.476562\" xlink:href=\"#DejaVuSans-61\"/>\r\n     <use x=\"124.755859\" xlink:href=\"#DejaVuSans-6d\"/>\r\n     <use x=\"222.167969\" xlink:href=\"#DejaVuSans-6d\"/>\r\n     <use x=\"319.580078\" xlink:href=\"#DejaVuSans-61\"/>\r\n     <use x=\"380.859375\" xlink:href=\"#DejaVuSans-3a\"/>\r\n     <use x=\"414.550781\" xlink:href=\"#DejaVuSans-20\"/>\r\n     <use x=\"446.337891\" xlink:href=\"#DejaVuSans-30\"/>\r\n     <use x=\"509.960938\" xlink:href=\"#DejaVuSans-2e\"/>\r\n     <use x=\"541.748047\" xlink:href=\"#DejaVuSans-37\"/>\r\n    </g>\r\n   </g>\r\n   <g id=\"line2d_51\">\r\n    <path d=\"M 360.328819 226.371875 \r\nL 380.328819 226.371875 \r\n\" style=\"fill:none;stroke:#7f7f7f;stroke-linecap:square;stroke-width:1.5;\"/>\r\n   </g>\r\n   <g id=\"line2d_52\"/>\r\n   <g id=\"text_27\">\r\n    <!-- gamma: 0.8 -->\r\n    <g transform=\"translate(388.328819 229.871875)scale(0.1 -0.1)\">\r\n     <defs>\r\n      <path d=\"M 2034 2216 \r\nQ 1584 2216 1326 1975 \r\nQ 1069 1734 1069 1313 \r\nQ 1069 891 1326 650 \r\nQ 1584 409 2034 409 \r\nQ 2484 409 2743 651 \r\nQ 3003 894 3003 1313 \r\nQ 3003 1734 2745 1975 \r\nQ 2488 2216 2034 2216 \r\nz\r\nM 1403 2484 \r\nQ 997 2584 770 2862 \r\nQ 544 3141 544 3541 \r\nQ 544 4100 942 4425 \r\nQ 1341 4750 2034 4750 \r\nQ 2731 4750 3128 4425 \r\nQ 3525 4100 3525 3541 \r\nQ 3525 3141 3298 2862 \r\nQ 3072 2584 2669 2484 \r\nQ 3125 2378 3379 2068 \r\nQ 3634 1759 3634 1313 \r\nQ 3634 634 3220 271 \r\nQ 2806 -91 2034 -91 \r\nQ 1263 -91 848 271 \r\nQ 434 634 434 1313 \r\nQ 434 1759 690 2068 \r\nQ 947 2378 1403 2484 \r\nz\r\nM 1172 3481 \r\nQ 1172 3119 1398 2916 \r\nQ 1625 2713 2034 2713 \r\nQ 2441 2713 2670 2916 \r\nQ 2900 3119 2900 3481 \r\nQ 2900 3844 2670 4047 \r\nQ 2441 4250 2034 4250 \r\nQ 1625 4250 1398 4047 \r\nQ 1172 3844 1172 3481 \r\nz\r\n\" id=\"DejaVuSans-38\" transform=\"scale(0.015625)\"/>\r\n     </defs>\r\n     <use xlink:href=\"#DejaVuSans-67\"/>\r\n     <use x=\"63.476562\" xlink:href=\"#DejaVuSans-61\"/>\r\n     <use x=\"124.755859\" xlink:href=\"#DejaVuSans-6d\"/>\r\n     <use x=\"222.167969\" xlink:href=\"#DejaVuSans-6d\"/>\r\n     <use x=\"319.580078\" xlink:href=\"#DejaVuSans-61\"/>\r\n     <use x=\"380.859375\" xlink:href=\"#DejaVuSans-3a\"/>\r\n     <use x=\"414.550781\" xlink:href=\"#DejaVuSans-20\"/>\r\n     <use x=\"446.337891\" xlink:href=\"#DejaVuSans-30\"/>\r\n     <use x=\"509.960938\" xlink:href=\"#DejaVuSans-2e\"/>\r\n     <use x=\"541.748047\" xlink:href=\"#DejaVuSans-38\"/>\r\n    </g>\r\n   </g>\r\n   <g id=\"line2d_53\">\r\n    <path d=\"M 360.328819 241.05 \r\nL 380.328819 241.05 \r\n\" style=\"fill:none;stroke:#bcbd22;stroke-linecap:square;stroke-width:1.5;\"/>\r\n   </g>\r\n   <g id=\"line2d_54\"/>\r\n   <g id=\"text_28\">\r\n    <!-- gamma: 0.9 -->\r\n    <g transform=\"translate(388.328819 244.55)scale(0.1 -0.1)\">\r\n     <defs>\r\n      <path d=\"M 703 97 \r\nL 703 672 \r\nQ 941 559 1184 500 \r\nQ 1428 441 1663 441 \r\nQ 2288 441 2617 861 \r\nQ 2947 1281 2994 2138 \r\nQ 2813 1869 2534 1725 \r\nQ 2256 1581 1919 1581 \r\nQ 1219 1581 811 2004 \r\nQ 403 2428 403 3163 \r\nQ 403 3881 828 4315 \r\nQ 1253 4750 1959 4750 \r\nQ 2769 4750 3195 4129 \r\nQ 3622 3509 3622 2328 \r\nQ 3622 1225 3098 567 \r\nQ 2575 -91 1691 -91 \r\nQ 1453 -91 1209 -44 \r\nQ 966 3 703 97 \r\nz\r\nM 1959 2075 \r\nQ 2384 2075 2632 2365 \r\nQ 2881 2656 2881 3163 \r\nQ 2881 3666 2632 3958 \r\nQ 2384 4250 1959 4250 \r\nQ 1534 4250 1286 3958 \r\nQ 1038 3666 1038 3163 \r\nQ 1038 2656 1286 2365 \r\nQ 1534 2075 1959 2075 \r\nz\r\n\" id=\"DejaVuSans-39\" transform=\"scale(0.015625)\"/>\r\n     </defs>\r\n     <use xlink:href=\"#DejaVuSans-67\"/>\r\n     <use x=\"63.476562\" xlink:href=\"#DejaVuSans-61\"/>\r\n     <use x=\"124.755859\" xlink:href=\"#DejaVuSans-6d\"/>\r\n     <use x=\"222.167969\" xlink:href=\"#DejaVuSans-6d\"/>\r\n     <use x=\"319.580078\" xlink:href=\"#DejaVuSans-61\"/>\r\n     <use x=\"380.859375\" xlink:href=\"#DejaVuSans-3a\"/>\r\n     <use x=\"414.550781\" xlink:href=\"#DejaVuSans-20\"/>\r\n     <use x=\"446.337891\" xlink:href=\"#DejaVuSans-30\"/>\r\n     <use x=\"509.960938\" xlink:href=\"#DejaVuSans-2e\"/>\r\n     <use x=\"541.748047\" xlink:href=\"#DejaVuSans-39\"/>\r\n    </g>\r\n   </g>\r\n   <g id=\"line2d_55\">\r\n    <path d=\"M 360.328819 255.728125 \r\nL 380.328819 255.728125 \r\n\" style=\"fill:none;stroke:#17becf;stroke-linecap:square;stroke-width:1.5;\"/>\r\n   </g>\r\n   <g id=\"line2d_56\"/>\r\n   <g id=\"text_29\">\r\n    <!-- gamma: 0.95 -->\r\n    <g transform=\"translate(388.328819 259.228125)scale(0.1 -0.1)\">\r\n     <use xlink:href=\"#DejaVuSans-67\"/>\r\n     <use x=\"63.476562\" xlink:href=\"#DejaVuSans-61\"/>\r\n     <use x=\"124.755859\" xlink:href=\"#DejaVuSans-6d\"/>\r\n     <use x=\"222.167969\" xlink:href=\"#DejaVuSans-6d\"/>\r\n     <use x=\"319.580078\" xlink:href=\"#DejaVuSans-61\"/>\r\n     <use x=\"380.859375\" xlink:href=\"#DejaVuSans-3a\"/>\r\n     <use x=\"414.550781\" xlink:href=\"#DejaVuSans-20\"/>\r\n     <use x=\"446.337891\" xlink:href=\"#DejaVuSans-30\"/>\r\n     <use x=\"509.960938\" xlink:href=\"#DejaVuSans-2e\"/>\r\n     <use x=\"541.748047\" xlink:href=\"#DejaVuSans-39\"/>\r\n     <use x=\"605.371094\" xlink:href=\"#DejaVuSans-35\"/>\r\n    </g>\r\n   </g>\r\n  </g>\r\n </g>\r\n <defs>\r\n  <clipPath id=\"pfddef56fb8\">\r\n   <rect height=\"321.4\" width=\"307.936632\" x=\"46.965625\" y=\"7.2\"/>\r\n  </clipPath>\r\n </defs>\r\n</svg>\r\n",
      "image/png": "[encoded data removed]"
     },
     "metadata": {
      "needs_background": "light"
     }
    }
   ],
   "metadata": {}
  },
  {
   "cell_type": "markdown",
   "source": [
    "You can use the following commands to check the difference of value-function values during each teration and the values of each value function.\n"
   ],
   "metadata": {}
  },
  {
   "cell_type": "code",
   "execution_count": 145,
   "source": [
    "print(vi.iterations_list)\r\n",
    "print(vi.v_list[-1])"
   ],
   "outputs": [
    {
     "output_type": "stream",
     "name": "stdout",
     "text": [
      "[2.0, 0.5039999999999998, 0.22031999999999985, 0.07231680000000007, 0.027293760000000278, 0.009599005439999697, 0.0034964566272002173, 0.0012513777454077335, 0.00045181838361596505]\n",
      "[3.28706589 5.40554078 5.40554078 6.12579511]\n"
     ]
    }
   ],
   "metadata": {}
  },
  {
   "cell_type": "markdown",
   "source": [
    "Before you go for the questionnaire, take your time to open the source code of the MDP toolkit we use, specifically, look into these files:\n",
    "1. [gen_scenario.py](gen_scenario.py) - contains the conversion code to make the simple coordinate commands above (e.g. ```shape = [3,4]```) into the matrices actually used by the MDP solver\n",
    "2. [mdp.py](pymdptoolbox/src/mdptoolbox/mdp.py) - contains most of the logic for an MDP, including the *Bellman Equation* as follows:\n",
    "\n",
    "$$V(s) = \\left[ \\max_{a} \\gamma \\sum_{s'}P(s'|s,a)*V(s') \\right]+ R(s)$$\n",
    "\n",
    "See if you can identify how this equation is implemented in the ```MDP._bellmanOperator``` with the [mdp.py](pymdptoolbox/src/mdptoolbox/mdp.py) file. Note how this implementation uses matrix multiplication to achieve the summation step described in the equation. Once you believe you understand that, go ahead and respond the questionnaire. \n",
    "\n",
    "### Questionnaire\n",
    "1. Study the code of the cell above and answer the following questions.\n",
    "\t1. What is the policy generated if we change the discount factor of the grid domain to ```0.1```?\n",
    "\t2. Use the following line ```vi.verbose = True``` before ```vi.run()```:   \n",
    "\tWhat is the variation for each of the first three iterations with the discount factor of ```0.9``` and how many iterations does the algorithm take to converge?\n",
    "\t3. How does changes to the discount factor affect the variation of the state values over time?"
   ],
   "metadata": {}
  },
  {
   "cell_type": "code",
   "execution_count": null,
   "source": [
    "#1.A"
   ],
   "outputs": [],
   "metadata": {}
  },
  {
   "cell_type": "code",
   "execution_count": null,
   "source": [
    "#1.B"
   ],
   "outputs": [],
   "metadata": {}
  },
  {
   "cell_type": "code",
   "execution_count": null,
   "source": [
    "#1.C"
   ],
   "outputs": [],
   "metadata": {}
  },
  {
   "cell_type": "markdown",
   "source": [
    "2. The scenario below has an interesting structure whereby the positive rewarding terminal state is partially surrounded by negatively-rewarding states. Program this scenario in pymdptoolbox and compute the optimal policy with a discount factor of 0.99.\n",
    "\n",
    "<img align=\"center\" src=\"mdp-odd.png\"/>\n",
    "\n",
    "\n"
   ],
   "metadata": {}
  },
  {
   "cell_type": "code",
   "execution_count": null,
   "source": [
    "#2"
   ],
   "outputs": [],
   "metadata": {}
  },
  {
   "cell_type": "markdown",
   "source": [
    "3. Define two new 5 by 5 scenarios with multiple obstacles and an interesting geometry following the guidelines below. Calculate the policy with discount factor 0.99, and then try to explain intuitively the reason for the resulting policies, given the initial parameters. These two scenarios must have the following characteristics:\n",
    "\t1. A scenario with one (or more) terminal states with positive rewards and at least one other state with the same amount of, but negative reward and no terminal states with negative rewards.\n",
    "\t2. A scenario with one terminal state with a negative reward and at least one non-terminal state with a positive reward."
   ],
   "metadata": {}
  },
  {
   "cell_type": "code",
   "execution_count": null,
   "source": [
    "#3.A"
   ],
   "outputs": [],
   "metadata": {}
  },
  {
   "cell_type": "code",
   "execution_count": null,
   "source": [
    "#3.B"
   ],
   "outputs": [],
   "metadata": {}
  }
 ],
 "metadata": {
  "kernelspec": {
   "name": "python3",
   "display_name": "Python 3.8.11 64-bit ('base': conda)"
  },
  "language_info": {
   "name": "python",
   "version": "3.8.11",
   "mimetype": "text/x-python",
   "codemirror_mode": {
    "name": "ipython",
    "version": 3
   },
   "pygments_lexer": "ipython3",
   "nbconvert_exporter": "python",
   "file_extension": ".py"
  },
  "interpreter": {
   "hash": "b3ba2566441a7c06988d0923437866b63cedc61552a5af99d1f4fb67d367b25f"
  }
 },
 "nbformat": 4,
 "nbformat_minor": 2
}